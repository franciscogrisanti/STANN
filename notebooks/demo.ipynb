{
 "cells": [
  {
   "cell_type": "raw",
   "metadata": {},
   "source": [
    "\"\"\"\n",
    "   ___                  _                \n",
    "  / _/______ ____  ____(_)__ _______     \n",
    " / _/ __/ _ `/ _ \\/ __/ (_-</ __/ _ \\    \n",
    "/_//_/  \\_,_/_//_/\\__/_/___/\\__/\\___/    \n",
    "  ___ _____(_)__ ___ ____  / /_(_)       \n",
    " / _ `/ __/ (_-</ _ `/ _ \\/ __/ /        \n",
    " \\_, /_/ /_/___/\\_,_/_//_/\\__/_/         \n",
    "/___/\n",
    "\n",
    "\n",
    "Samee Lab @ Baylor College Of Medicine\n",
    "francisco.grisanticanozo@bcm.edu\n",
    "\"\"\""
   ]
  },
  {
   "cell_type": "code",
   "execution_count": null,
   "metadata": {},
   "outputs": [],
   "source": [
    "#\n",
    "#   ___                  _                \n",
    "#  / _/______ ____  ____(_)__ _______     \n",
    "# / _/ __/ _ `/ _ \\/ __/ (_-</ __/ _ \\    \n",
    "#/_//_/  \\_,_/_//_/\\__/_/___/\\__/\\___/    \n",
    "# ___ _____(_)__ ___ ____  / /_(_)       \n",
    "# / _ `/ __/ (_-</ _ `/ _ \\/ __/ /        \n",
    "# \\_, /_/ /_/___/\\_,_/_//_/\\__/_/         \n",
    "#/___/\n",
    "#\n",
    "#Samee Lab @ Baylor College Of Medicine\n",
    "#francisco.grisanticanozo@bcm.edu"
   ]
  },
  {
   "cell_type": "code",
   "execution_count": 1,
   "metadata": {},
   "outputs": [
    {
     "name": "stdout",
     "output_type": "stream",
     "text": [
      "======================================== System Information ========================================\n",
      "System: Linux\n",
      "Node Name: francisco-vcpu-104gb\n",
      "Release: 4.9.0-12-amd64\n",
      "Version: #1 SMP Debian 4.9.210-1+deb9u1 (2020-06-07)\n",
      "Machine: x86_64\n"
     ]
    }
   ],
   "source": [
    "import psutil\n",
    "import platform\n",
    "from datetime import datetime\n",
    "\n",
    "print(\"=\"*40, \"System Information\", \"=\"*40)\n",
    "uname = platform.uname()\n",
    "print(f\"System: {uname.system}\")\n",
    "print(f\"Node Name: {uname.node}\")\n",
    "print(f\"Release: {uname.release}\")\n",
    "print(f\"Version: {uname.version}\")\n",
    "print(f\"Machine: {uname.machine}\")"
   ]
  },
  {
   "cell_type": "code",
   "execution_count": 2,
   "metadata": {},
   "outputs": [
    {
     "name": "stderr",
     "output_type": "stream",
     "text": [
      "/home/franciscogrisanti/miniconda3/envs/tf/lib/python3.7/site-packages/anndata/_core/anndata.py:21: FutureWarning: pandas.core.index is deprecated and will be removed in a future version.  The public classes are available in the top-level namespace.\n",
      "  from pandas.core.index import RangeIndex\n"
     ]
    },
    {
     "name": "stdout",
     "output_type": "stream",
     "text": [
      "scanpy==1.4.5.1 anndata==0.7.1 umap==0.3.10 numpy==1.18.1 scipy==1.4.1 pandas==1.0.1 scikit-learn==0.22.1 statsmodels==0.11.0 python-igraph==0.8.0\n"
     ]
    }
   ],
   "source": [
    "#Load libraries\n",
    "import matplotlib.pyplot as plt\n",
    "import numpy as np\n",
    "import random\n",
    "import os\n",
    "import sys\n",
    "import pandas as pd\n",
    "import warnings\n",
    "import sklearn\n",
    "import seaborn as sb\n",
    "import venn\n",
    "import sklearn\n",
    "from sklearn.utils import class_weight\n",
    "from sklearn.metrics import roc_auc_score\n",
    "import pickle\n",
    "import tqdm\n",
    "import scanpy as sc\n",
    "import anndata\n",
    "sc.logging.print_versions()"
   ]
  },
  {
   "cell_type": "code",
   "execution_count": 3,
   "metadata": {},
   "outputs": [],
   "source": [
    "sys.path.append('../')\n",
    "from STANN.models import STANN\n",
    "import STANN.utils as utils"
   ]
  },
  {
   "cell_type": "code",
   "execution_count": 4,
   "metadata": {},
   "outputs": [
    {
     "name": "stdout",
     "output_type": "stream",
     "text": [
      "tensorflow==2.1.0 \n",
      "keras==2.2.4-tf\n"
     ]
    }
   ],
   "source": [
    "import tensorflow as tf\n",
    "import tensorflow.keras as keras\n",
    "print(f'tensorflow=={tf.__version__} \\nkeras=={tf.keras.__version__}')"
   ]
  },
  {
   "cell_type": "code",
   "execution_count": 5,
   "metadata": {},
   "outputs": [],
   "source": [
    "#Reproducibility\n",
    "seed = 10\n",
    "np.random.seed(seed)\n",
    "tf.random.set_seed(seed)"
   ]
  },
  {
   "cell_type": "code",
   "execution_count": 6,
   "metadata": {},
   "outputs": [
    {
     "name": "stdout",
     "output_type": "stream",
     "text": [
      "conda_env==miniconda3/envs/tf\n"
     ]
    }
   ],
   "source": [
    "print(f'conda_env=={sys.prefix[24:]}')"
   ]
  },
  {
   "cell_type": "code",
   "execution_count": 7,
   "metadata": {},
   "outputs": [
    {
     "name": "stdout",
     "output_type": "stream",
     "text": [
      "[INFO] loading training data...\n",
      "[INFO] loading predict data...\n"
     ]
    }
   ],
   "source": [
    "################LOAD DATA###################\n",
    "\n",
    "# check to see which data\n",
    "print(\"[INFO] loading training data...\")\n",
    "adata_train = sc.read_h5ad(\"../data/scrna.h5ad\")\n",
    "\n",
    "print(\"[INFO] loading predict data...\")\n",
    "adata_predict = sc.read_h5ad(\"../data/seqfish.h5ad\")"
   ]
  },
  {
   "cell_type": "code",
   "execution_count": 8,
   "metadata": {},
   "outputs": [
    {
     "name": "stdout",
     "output_type": "stream",
     "text": [
      "Model: \"sequential\"\n",
      "_________________________________________________________________\n",
      "Layer (type)                 Output Shape              Param #   \n",
      "=================================================================\n",
      "dense (Dense)                (None, 160)               1445120   \n",
      "_________________________________________________________________\n",
      "dense_1 (Dense)              (None, 145)               23345     \n",
      "_________________________________________________________________\n",
      "dense_2 (Dense)              (None, 15)                2190      \n",
      "=================================================================\n",
      "Total params: 1,470,655\n",
      "Trainable params: 1,470,655\n",
      "Non-trainable params: 0\n",
      "_________________________________________________________________\n"
     ]
    }
   ],
   "source": [
    "model = STANN(act_fun='tanh',\n",
    "              first_dense=160,\n",
    "              second_dense=145.0,\n",
    "              learning_rate=0.01,input_dim=adata_train.X.shape[1],\n",
    "              output_dim=len(adata_train.obs.celltype.unique()))\n",
    "\n",
    "model.summary()"
   ]
  },
  {
   "cell_type": "code",
   "execution_count": 9,
   "metadata": {},
   "outputs": [
    {
     "name": "stdout",
     "output_type": "stream",
     "text": [
      "[INFO] Equal columns = True\n",
      "[INFO] Data organized\n"
     ]
    }
   ],
   "source": [
    "X_train, Y_train, X_predict = utils.organize_data(adata_train=adata_train,\n",
    "                                            adata_predict=adata_predict)"
   ]
  },
  {
   "cell_type": "code",
   "execution_count": 10,
   "metadata": {},
   "outputs": [],
   "source": [
    "X_train_scaled , scaler_train = utils.min_max(X=X_train)"
   ]
  },
  {
   "cell_type": "code",
   "execution_count": 11,
   "metadata": {},
   "outputs": [
    {
     "data": {
      "image/png": "[encoded data removed]",
      "text/plain": [
       "<Figure size 360x360 with 1 Axes>"
      ]
     },
     "metadata": {
      "needs_background": "light"
     },
     "output_type": "display_data"
    }
   ],
   "source": [
    "#Sample obs distribution\n",
    "fig, ax = plt.subplots(figsize=(5,5))\n",
    "sb.distplot(X_train_scaled.flatten(),bins=200,ax=ax)\n",
    "ax.set_xlim(-2,2)\n",
    "ax.set(xlabel='Expression', ylabel='Frequency')\n",
    "ax.set_title('w/ normalization')\n",
    "plt.show()"
   ]
  },
  {
   "cell_type": "code",
   "execution_count": 11,
   "metadata": {},
   "outputs": [],
   "source": [
    "X_predict_scaled , scaler_predict = utils.min_max(X=X_predict)"
   ]
  },
  {
   "cell_type": "code",
   "execution_count": 13,
   "metadata": {},
   "outputs": [
    {
     "data": {
      "image/png": "[encoded data removed]",
      "text/plain": [
       "<Figure size 360x360 with 1 Axes>"
      ]
     },
     "metadata": {
      "needs_background": "light"
     },
     "output_type": "display_data"
    }
   ],
   "source": [
    "#Sample obs distribution\n",
    "fig, ax = plt.subplots(figsize=(5,5))\n",
    "sb.distplot(X_predict_scaled.flatten(),bins=200,ax=ax)\n",
    "ax.set_xlim(-2,2)\n",
    "ax.set(xlabel='Expression', ylabel='Frequency')\n",
    "ax.set_title('w/ normalization')\n",
    "plt.show()"
   ]
  },
  {
   "cell_type": "code",
   "execution_count": 12,
   "metadata": {},
   "outputs": [
    {
     "name": "stderr",
     "output_type": "stream",
     "text": [
      "/home/franciscogrisanti/miniconda3/envs/tf/lib/python3.7/site-packages/sklearn/preprocessing/_label.py:235: DataConversionWarning: A column-vector y was passed when a 1d array was expected. Please change the shape of y to (n_samples, ), for example using ravel().\n",
      "  y = column_or_1d(y, warn=True)\n",
      "/home/franciscogrisanti/miniconda3/envs/tf/lib/python3.7/site-packages/sklearn/preprocessing/_label.py:268: DataConversionWarning: A column-vector y was passed when a 1d array was expected. Please change the shape of y to (n_samples, ), for example using ravel().\n",
      "  y = column_or_1d(y, warn=True)\n"
     ]
    }
   ],
   "source": [
    "Y_train_dummy,Y_train_ohe,encoder = utils.label_encoder(Y_train=Y_train)"
   ]
  },
  {
   "cell_type": "code",
   "execution_count": 13,
   "metadata": {},
   "outputs": [
    {
     "name": "stdout",
     "output_type": "stream",
     "text": [
      "[INFO] X_train shape=(10515, 9031)\n",
      "[INFO] y_train shape=(10515, 15)\n",
      "\n",
      "[INFO] X_test shape=(1169, 9031)\n",
      "[INFO] y_test shape=(1169, 15)\n"
     ]
    }
   ],
   "source": [
    "x_train, x_test, y_train, y_test = utils.train_test_split(X_train_scaled,\n",
    "                                                    Y_train_ohe,\n",
    "                                                    test_size=0.10, \n",
    "                                                    random_state=40)"
   ]
  },
  {
   "cell_type": "code",
   "execution_count": 14,
   "metadata": {},
   "outputs": [
    {
     "data": {
      "text/plain": [
       "array([0.64252979, 0.77287762, 5.84166667, 6.25892857, 0.69474727,\n",
       "       6.31531532, 2.92083333, 2.93305439, 0.34481062, 0.82567727,\n",
       "       4.70469799, 2.44250871, 1.31766917, 0.25743665, 6.20353982])"
      ]
     },
     "execution_count": 14,
     "metadata": {},
     "output_type": "execute_result"
    }
   ],
   "source": [
    "class_weights = utils.get_class_weights(Y_train_ohe=y_train)\n",
    "class_weights"
   ]
  },
  {
   "cell_type": "code",
   "execution_count": 15,
   "metadata": {},
   "outputs": [],
   "source": [
    "#early stopping\n",
    "es = tf.keras.callbacks.EarlyStopping(monitor='accuracy', \n",
    "                                      mode='min', \n",
    "                                      verbose=1,\n",
    "                                      patience=30)"
   ]
  },
  {
   "cell_type": "code",
   "execution_count": 16,
   "metadata": {},
   "outputs": [
    {
     "name": "stdout",
     "output_type": "stream",
     "text": [
      "Train on 10515 samples, validate on 1169 samples\n",
      "Epoch 1/30\n",
      "10515/10515 [==============================] - 2s 195us/sample - loss: 1.7949 - accuracy: 0.4929 - val_loss: 1.3038 - val_accuracy: 0.7246\n",
      "Epoch 2/30\n",
      "10515/10515 [==============================] - 2s 164us/sample - loss: 0.9330 - accuracy: 0.7956 - val_loss: 0.7266 - val_accuracy: 0.8289\n",
      "Epoch 3/30\n",
      "10515/10515 [==============================] - 2s 158us/sample - loss: 0.5756 - accuracy: 0.8532 - val_loss: 0.5276 - val_accuracy: 0.8580\n",
      "Epoch 4/30\n",
      "10515/10515 [==============================] - 2s 156us/sample - loss: 0.4226 - accuracy: 0.8811 - val_loss: 0.4282 - val_accuracy: 0.8768\n",
      "Epoch 5/30\n",
      "10515/10515 [==============================] - 2s 149us/sample - loss: 0.3302 - accuracy: 0.9078 - val_loss: 0.3615 - val_accuracy: 0.8905\n",
      "Epoch 6/30\n",
      "10515/10515 [==============================] - 2s 150us/sample - loss: 0.2651 - accuracy: 0.9302 - val_loss: 0.3251 - val_accuracy: 0.9059\n",
      "Epoch 7/30\n",
      "10515/10515 [==============================] - 2s 153us/sample - loss: 0.2168 - accuracy: 0.9479 - val_loss: 0.2925 - val_accuracy: 0.9059\n",
      "Epoch 8/30\n",
      "10515/10515 [==============================] - 2s 153us/sample - loss: 0.1794 - accuracy: 0.9593 - val_loss: 0.2603 - val_accuracy: 0.9239\n",
      "Epoch 9/30\n",
      "10515/10515 [==============================] - 2s 149us/sample - loss: 0.1481 - accuracy: 0.9709 - val_loss: 0.2480 - val_accuracy: 0.9230\n",
      "Epoch 10/30\n",
      "10515/10515 [==============================] - 2s 151us/sample - loss: 0.1244 - accuracy: 0.9762 - val_loss: 0.2302 - val_accuracy: 0.9350\n",
      "Epoch 11/30\n",
      "10515/10515 [==============================] - 2s 153us/sample - loss: 0.1053 - accuracy: 0.9831 - val_loss: 0.2118 - val_accuracy: 0.9393\n",
      "Epoch 12/30\n",
      "10515/10515 [==============================] - 2s 148us/sample - loss: 0.0904 - accuracy: 0.9874 - val_loss: 0.2075 - val_accuracy: 0.9384\n",
      "Epoch 13/30\n",
      "10515/10515 [==============================] - 2s 163us/sample - loss: 0.0769 - accuracy: 0.9906 - val_loss: 0.1957 - val_accuracy: 0.9401\n",
      "Epoch 14/30\n",
      "10515/10515 [==============================] - 2s 167us/sample - loss: 0.0667 - accuracy: 0.9927 - val_loss: 0.2319 - val_accuracy: 0.9204\n",
      "Epoch 15/30\n",
      "10515/10515 [==============================] - 2s 173us/sample - loss: 0.0579 - accuracy: 0.9959 - val_loss: 0.1909 - val_accuracy: 0.9376\n",
      "Epoch 16/30\n",
      "10515/10515 [==============================] - 2s 151us/sample - loss: 0.0505 - accuracy: 0.9970 - val_loss: 0.1841 - val_accuracy: 0.9444\n",
      "Epoch 17/30\n",
      "10515/10515 [==============================] - 2s 151us/sample - loss: 0.0448 - accuracy: 0.9978 - val_loss: 0.1834 - val_accuracy: 0.9410\n",
      "Epoch 18/30\n",
      "10515/10515 [==============================] - 2s 150us/sample - loss: 0.0403 - accuracy: 0.9980 - val_loss: 0.1825 - val_accuracy: 0.9401\n",
      "Epoch 19/30\n",
      "10515/10515 [==============================] - 2s 147us/sample - loss: 0.0354 - accuracy: 0.9990 - val_loss: 0.1792 - val_accuracy: 0.9418\n",
      "Epoch 20/30\n",
      "10515/10515 [==============================] - 2s 154us/sample - loss: 0.0321 - accuracy: 0.9988 - val_loss: 0.1741 - val_accuracy: 0.9418\n",
      "Epoch 21/30\n",
      "10515/10515 [==============================] - 2s 151us/sample - loss: 0.0289 - accuracy: 0.9991 - val_loss: 0.1751 - val_accuracy: 0.9435\n",
      "Epoch 22/30\n",
      "10515/10515 [==============================] - 1s 142us/sample - loss: 0.0266 - accuracy: 0.9994 - val_loss: 0.1720 - val_accuracy: 0.9453\n",
      "Epoch 23/30\n",
      "10515/10515 [==============================] - 2s 144us/sample - loss: 0.0242 - accuracy: 0.9995 - val_loss: 0.1677 - val_accuracy: 0.9444\n",
      "Epoch 24/30\n",
      "10515/10515 [==============================] - 2s 145us/sample - loss: 0.0223 - accuracy: 0.9995 - val_loss: 0.1702 - val_accuracy: 0.9453\n",
      "Epoch 25/30\n",
      "10515/10515 [==============================] - 2s 147us/sample - loss: 0.0206 - accuracy: 0.9995 - val_loss: 0.1700 - val_accuracy: 0.9470\n",
      "Epoch 26/30\n",
      "10515/10515 [==============================] - 1s 142us/sample - loss: 0.0191 - accuracy: 0.9996 - val_loss: 0.1688 - val_accuracy: 0.9487\n",
      "Epoch 27/30\n",
      "10515/10515 [==============================] - 1s 139us/sample - loss: 0.0178 - accuracy: 0.9997 - val_loss: 0.1664 - val_accuracy: 0.9444\n",
      "Epoch 28/30\n",
      "10515/10515 [==============================] - 1s 142us/sample - loss: 0.0166 - accuracy: 0.9998 - val_loss: 0.1687 - val_accuracy: 0.9453\n",
      "Epoch 29/30\n",
      "10515/10515 [==============================] - 2s 143us/sample - loss: 0.0156 - accuracy: 0.9998 - val_loss: 0.1652 - val_accuracy: 0.9453\n",
      "Epoch 30/30\n",
      "10515/10515 [==============================] - 2s 145us/sample - loss: 0.0146 - accuracy: 0.9999 - val_loss: 0.1668 - val_accuracy: 0.9478\n"
     ]
    }
   ],
   "source": [
    "history = model.fit(x_train, \n",
    "                    y_train, \n",
    "                    validation_data=(x_test, y_test),\n",
    "                    epochs=30,\n",
    "                    class_weight=class_weight,\n",
    "                    callbacks=[es])"
   ]
  },
  {
   "cell_type": "code",
   "execution_count": 17,
   "metadata": {},
   "outputs": [
    {
     "data": {
      "text/plain": [
       "<matplotlib.legend.Legend at 0x7fac582368d0>"
      ]
     },
     "execution_count": 17,
     "metadata": {},
     "output_type": "execute_result"
    },
    {
     "data": {
      "image/png": "[encoded data removed]",
      "text/plain": [
       "<Figure size 360x360 with 1 Axes>"
      ]
     },
     "metadata": {
      "needs_background": "light"
     },
     "output_type": "display_data"
    }
   ],
   "source": [
    "fig, axs = plt.subplots(figsize=(5,5))\n",
    "plt.plot(history.history['loss'], label='loss')\n",
    "plt.plot(history.history['val_loss'], label='val_loss')\n",
    "plt.plot(history.history['accuracy'], label='accuracy')\n",
    "plt.plot(history.history['val_accuracy'], label='val_accuracy')\n",
    "plt.title('Training metrics')\n",
    "plt.xlabel('Iterations')\n",
    "plt.legend()"
   ]
  },
  {
   "cell_type": "code",
   "execution_count": 18,
   "metadata": {},
   "outputs": [
    {
     "name": "stdout",
     "output_type": "stream",
     "text": [
      "[INFO] Accuracy -- Train: 1.000, Test: 0.948\n",
      "[INFO] ROC -- Train: 1.000, Test: 0.998\n"
     ]
    }
   ],
   "source": [
    "utils.print_metrics(model=model,\n",
    "                  x_train=x_train,\n",
    "                  y_train=y_train,\n",
    "                  x_test=x_test,\n",
    "                  y_test=y_test)"
   ]
  },
  {
   "cell_type": "code",
   "execution_count": 19,
   "metadata": {},
   "outputs": [
    {
     "data": {
      "text/html": [
       "<div>\n",
       "<style scoped>\n",
       "    .dataframe tbody tr th:only-of-type {\n",
       "        vertical-align: middle;\n",
       "    }\n",
       "\n",
       "    .dataframe tbody tr th {\n",
       "        vertical-align: top;\n",
       "    }\n",
       "\n",
       "    .dataframe thead th {\n",
       "        text-align: right;\n",
       "    }\n",
       "</style>\n",
       "<table border=\"1\" class=\"dataframe\">\n",
       "  <thead>\n",
       "    <tr style=\"text-align: right;\">\n",
       "      <th></th>\n",
       "      <th>X</th>\n",
       "      <th>Y</th>\n",
       "      <th>n_counts</th>\n",
       "      <th>log_counts</th>\n",
       "      <th>n_genes</th>\n",
       "      <th>mt_frac</th>\n",
       "      <th>FOV</th>\n",
       "      <th>STANN_predictions</th>\n",
       "    </tr>\n",
       "    <tr>\n",
       "      <th>barcode</th>\n",
       "      <th></th>\n",
       "      <th></th>\n",
       "      <th></th>\n",
       "      <th></th>\n",
       "      <th></th>\n",
       "      <th></th>\n",
       "      <th></th>\n",
       "      <th></th>\n",
       "    </tr>\n",
       "  </thead>\n",
       "  <tbody>\n",
       "    <tr>\n",
       "      <th>0a</th>\n",
       "      <td>1766.40</td>\n",
       "      <td>283.42</td>\n",
       "      <td>1148.0</td>\n",
       "      <td>7.045776</td>\n",
       "      <td>717</td>\n",
       "      <td>0.0</td>\n",
       "      <td>0</td>\n",
       "      <td>Astro</td>\n",
       "    </tr>\n",
       "    <tr>\n",
       "      <th>1a</th>\n",
       "      <td>1891.40</td>\n",
       "      <td>348.38</td>\n",
       "      <td>841.0</td>\n",
       "      <td>6.734591</td>\n",
       "      <td>555</td>\n",
       "      <td>0.0</td>\n",
       "      <td>0</td>\n",
       "      <td>Neuron_GC</td>\n",
       "    </tr>\n",
       "    <tr>\n",
       "      <th>2a</th>\n",
       "      <td>1548.70</td>\n",
       "      <td>351.11</td>\n",
       "      <td>1704.0</td>\n",
       "      <td>7.440734</td>\n",
       "      <td>1066</td>\n",
       "      <td>0.0</td>\n",
       "      <td>0</td>\n",
       "      <td>Neuron_GC</td>\n",
       "    </tr>\n",
       "    <tr>\n",
       "      <th>3a</th>\n",
       "      <td>1657.60</td>\n",
       "      <td>357.37</td>\n",
       "      <td>1439.0</td>\n",
       "      <td>7.271704</td>\n",
       "      <td>940</td>\n",
       "      <td>0.0</td>\n",
       "      <td>0</td>\n",
       "      <td>OEC</td>\n",
       "    </tr>\n",
       "    <tr>\n",
       "      <th>4a</th>\n",
       "      <td>1767.40</td>\n",
       "      <td>392.22</td>\n",
       "      <td>1657.0</td>\n",
       "      <td>7.412764</td>\n",
       "      <td>1060</td>\n",
       "      <td>0.0</td>\n",
       "      <td>0</td>\n",
       "      <td>Neuron_GC</td>\n",
       "    </tr>\n",
       "    <tr>\n",
       "      <th>...</th>\n",
       "      <td>...</td>\n",
       "      <td>...</td>\n",
       "      <td>...</td>\n",
       "      <td>...</td>\n",
       "      <td>...</td>\n",
       "      <td>...</td>\n",
       "      <td>...</td>\n",
       "      <td>...</td>\n",
       "    </tr>\n",
       "    <tr>\n",
       "      <th>2045a</th>\n",
       "      <td>339.97</td>\n",
       "      <td>1532.30</td>\n",
       "      <td>853.0</td>\n",
       "      <td>6.748760</td>\n",
       "      <td>539</td>\n",
       "      <td>0.0</td>\n",
       "      <td>6</td>\n",
       "      <td>OEC</td>\n",
       "    </tr>\n",
       "    <tr>\n",
       "      <th>2046a</th>\n",
       "      <td>608.31</td>\n",
       "      <td>1544.70</td>\n",
       "      <td>735.0</td>\n",
       "      <td>6.599871</td>\n",
       "      <td>463</td>\n",
       "      <td>0.0</td>\n",
       "      <td>6</td>\n",
       "      <td>OEC</td>\n",
       "    </tr>\n",
       "    <tr>\n",
       "      <th>2047a</th>\n",
       "      <td>779.11</td>\n",
       "      <td>1551.90</td>\n",
       "      <td>822.0</td>\n",
       "      <td>6.711740</td>\n",
       "      <td>543</td>\n",
       "      <td>0.0</td>\n",
       "      <td>6</td>\n",
       "      <td>OEC</td>\n",
       "    </tr>\n",
       "    <tr>\n",
       "      <th>2048a</th>\n",
       "      <td>691.00</td>\n",
       "      <td>1575.60</td>\n",
       "      <td>1053.0</td>\n",
       "      <td>6.959399</td>\n",
       "      <td>678</td>\n",
       "      <td>0.0</td>\n",
       "      <td>6</td>\n",
       "      <td>OEC</td>\n",
       "    </tr>\n",
       "    <tr>\n",
       "      <th>2049a</th>\n",
       "      <td>1295.60</td>\n",
       "      <td>1374.70</td>\n",
       "      <td>1081.0</td>\n",
       "      <td>6.985642</td>\n",
       "      <td>689</td>\n",
       "      <td>0.0</td>\n",
       "      <td>6</td>\n",
       "      <td>OEC</td>\n",
       "    </tr>\n",
       "  </tbody>\n",
       "</table>\n",
       "<p>2050 rows × 8 columns</p>\n",
       "</div>"
      ],
      "text/plain": [
       "               X        Y  n_counts  log_counts  n_genes  mt_frac  FOV  \\\n",
       "barcode                                                                  \n",
       "0a       1766.40   283.42    1148.0    7.045776      717      0.0    0   \n",
       "1a       1891.40   348.38     841.0    6.734591      555      0.0    0   \n",
       "2a       1548.70   351.11    1704.0    7.440734     1066      0.0    0   \n",
       "3a       1657.60   357.37    1439.0    7.271704      940      0.0    0   \n",
       "4a       1767.40   392.22    1657.0    7.412764     1060      0.0    0   \n",
       "...          ...      ...       ...         ...      ...      ...  ...   \n",
       "2045a     339.97  1532.30     853.0    6.748760      539      0.0    6   \n",
       "2046a     608.31  1544.70     735.0    6.599871      463      0.0    6   \n",
       "2047a     779.11  1551.90     822.0    6.711740      543      0.0    6   \n",
       "2048a     691.00  1575.60    1053.0    6.959399      678      0.0    6   \n",
       "2049a    1295.60  1374.70    1081.0    6.985642      689      0.0    6   \n",
       "\n",
       "        STANN_predictions  \n",
       "barcode                    \n",
       "0a                  Astro  \n",
       "1a              Neuron_GC  \n",
       "2a              Neuron_GC  \n",
       "3a                    OEC  \n",
       "4a              Neuron_GC  \n",
       "...                   ...  \n",
       "2045a                 OEC  \n",
       "2046a                 OEC  \n",
       "2047a                 OEC  \n",
       "2048a                 OEC  \n",
       "2049a                 OEC  \n",
       "\n",
       "[2050 rows x 8 columns]"
      ]
     },
     "execution_count": 19,
     "metadata": {},
     "output_type": "execute_result"
    }
   ],
   "source": [
    "predictions = utils.make_predictions(model=model,\n",
    "                     X_predict=X_predict_scaled,\n",
    "                     encoder=encoder,\n",
    "                     adata_predict=adata_predict,\n",
    "                     probabilities=False,\n",
    "                     save=True\n",
    "                    )\n",
    "predictions"
   ]
  }
 ],
 "metadata": {
  "kernelspec": {
   "display_name": "Python 3",
   "language": "python",
   "name": "python3"
  },
  "language_info": {
   "codemirror_mode": {
    "name": "ipython",
    "version": 3
   },
   "file_extension": ".py",
   "mimetype": "text/x-python",
   "name": "python",
   "nbconvert_exporter": "python",
   "pygments_lexer": "ipython3",
   "version": "3.7.6"
  }
 },
 "nbformat": 4,
 "nbformat_minor": 2
}